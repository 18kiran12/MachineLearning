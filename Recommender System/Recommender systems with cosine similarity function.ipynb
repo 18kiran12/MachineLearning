{
 "cells": [
  {
   "cell_type": "markdown",
   "metadata": {},
   "source": [
    "<h1>Cosine Similarity</h1>\n",
    "<p>Cosine similarity finds out the angle between the 2 vectors and this is used to understand if they are similar or dissimilar using the following equation :<p>\n",
    "<img src = 'Cosine1.PNG' >\n",
    "<h2>Using Scipy</h2>"
   ]
  },
  {
   "cell_type": "code",
   "execution_count": 2,
   "metadata": {},
   "outputs": [
    {
     "name": "stdout",
     "output_type": "stream",
     "text": [
      "0.832050294338\n"
     ]
    }
   ],
   "source": [
    "from scipy import spatial\n",
    "import matplotlib.pyplot as plt\n",
    "\n",
    "X1 = [0,4]\n",
    "X2 = [2,3]\n",
    "cosine_distance = spatial.distance.cosine(X1, X2)\n",
    "cosine_similarity = 1 - cosine_distance\n",
    "print(cosine_similarity)\n",
    "\n",
    "# \"\"\"plot the vectors\"\"\"\n",
    "# plt.figure()\n",
    "# ax = plt.gca()\n",
    "# ax.quiver(X1, X2)\n",
    "# ax.set_xlim(0,4)\n",
    "# ax.set_ylim(0,4)\n",
    "# plt.draw()\n",
    "# plt.show()\n",
    "\n",
    "#unable to plot it as a vector"
   ]
  },
  {
   "cell_type": "code",
   "execution_count": 41,
   "metadata": {},
   "outputs": [
    {
     "data": {
      "text/plain": [
       "array([[1, 3, 3, 0, 5, 0],\n",
       "       [0, 2, 3, 0, 0, 0],\n",
       "       [0, 0, 3, 3, 5, 0],\n",
       "       [5, 4, 3, 2, 0, 1],\n",
       "       [1, 1, 5, 0, 5, 0],\n",
       "       [0, 0, 0, 0, 3, 0]])"
      ]
     },
     "execution_count": 41,
     "metadata": {},
     "output_type": "execute_result"
    }
   ],
   "source": [
    "import numpy as np\n",
    "\"\"\"creating the matrix\"\"\"\n",
    "data = np.array([[1, 3, 3, 0, 5, 0],\n",
    "                [0, 2, 3, 0, 0, 0],\n",
    "                [0, 0, 3, 3, 5, 0],\n",
    "                [5, 4, 3, 2, 0, 1],\n",
    "                [1, 1, 5, 0, 5, 0],\n",
    "                [0, 0, 0, 0, 3, 0]])\n",
    "data"
   ]
  },
  {
   "cell_type": "markdown",
   "metadata": {},
   "source": [
    "<h1>Recommender Systems - Nearest Neighbours</h1>\n",
    "<p>Nearest neighbour User Collabrative filtering Implementation and calculation of RMSE</p>"
   ]
  },
  {
   "cell_type": "code",
   "execution_count": 42,
   "metadata": {
    "collapsed": true
   },
   "outputs": [],
   "source": [
    "\"\"\"algorithm to predict recommendation rating based on KNN \"\"\"\n",
    "\n",
    "def prediction_knn_recommenderSystem(data, user_under_scrutiny_list, item_under_scrutiny_list, actual, k):\n",
    "    \n",
    "    \"\"\"store RMSE value for the k neighbours\"\"\"\n",
    "    \n",
    "    RMSE_k_list = []\n",
    "    \n",
    "    for neighbour in k:\n",
    "        \n",
    "        prediction_list = []\n",
    "\n",
    "        for i in range(len(user_under_scrutiny_list)):\n",
    "\n",
    "            \"\"\"set the user for whom we have to predict\"\"\"\n",
    "\n",
    "            user_under_scrutiny = data[user_under_scrutiny_list[i],:]\n",
    "            item_under_scrutiny = item_under_scrutiny_list[i]\n",
    "\n",
    "            print('K = {} user - {} \\n'.format(neighbour, user_under_scrutiny_list[i]))\n",
    "\n",
    "            cosine_similarity_list = []\n",
    "\n",
    "            for user_row in range(len(data)):\n",
    "                \n",
    "                \"\"\"if we are dealing with zero vector there is no point in finding the cosine similarity\"\"\"\n",
    "                \n",
    "                if(np.all(data[user_row] == 0)):\n",
    "                    cosine_similarity = 0\n",
    "                \n",
    "                else:\n",
    "                    cosine_distance = spatial.distance.cosine(data[user_row], user_under_scrutiny)\n",
    "                    cosine_similarity = 1 - cosine_distance\n",
    "                cosine_similarity_list.append(cosine_similarity)\n",
    "                \n",
    "            \"\"\"finding the k nearest index\"\"\"\n",
    "            neighbour_indices = sorted(range(len(cosine_similarity_list)), key=lambda i: cosine_similarity_list[i], reverse=True)[:neighbour+1]\n",
    "            neighbour_indices.pop(0)\n",
    "\n",
    "            \"\"\"creating vectors for the calculations\"\"\"\n",
    "            \n",
    "            similarity_vector = [cosine_similarity_list[i] for i in neighbour_indices]\n",
    "            item_data = data[:, item_under_scrutiny - 1]\n",
    "            neighbour_ratings = [item_data[i] for i in neighbour_indices]  \n",
    "            neighbour_rating_item = [data[i] for i in neighbour_indices]\n",
    "            neighbour_bais = np.mean([data[i] for i in neighbour_indices])\n",
    "            \n",
    "            \"\"\"printing out the calculated vectors and values\"\"\"\n",
    "            \n",
    "            print('neighbour_ratings :', neighbour_ratings)\n",
    "            print('similarity_vector :', similarity_vector)\n",
    "            print ('neighbour_rating_item :', neighbour_rating_item)\n",
    "            print('neighbour_bais :', neighbour_bais)\n",
    "\n",
    "            neighbour_ratings_without_bais = neighbour_ratings - neighbour_bais\n",
    "            user_bais = np.average(user_under_scrutiny)\n",
    "            print ('user_bais :', user_bais )\n",
    "\n",
    "            \"\"\"calculating the prediction\"\"\"\n",
    "            prediction = user_bais + np.dot(similarity_vector, neighbour_ratings_without_bais) / np.sum(np.absolute(similarity_vector))\n",
    "            print(np.dot(similarity_vector, neighbour_ratings_without_bais))\n",
    "\n",
    "            print('cosine_similarity_list :',cosine_similarity_list)\n",
    "            print('neighbour_indices :',neighbour_indices)\n",
    "            print('prediction :', prediction)\n",
    "            prediction_list.append(prediction)\n",
    "            print('\\n\\n')\n",
    "        \n",
    "        RMSE_k = np.sqrt(np.sum(np.square(np.asarray(actual) - np.asarray(prediction_list))) / len(actual))\n",
    "        print ('Combined RMSE :',RMSE_k)\n",
    "        \n",
    "        RMSE_k_list.append(RMSE_k)\n",
    "    \n",
    "    return RMSE_k_list"
   ]
  },
  {
   "cell_type": "code",
   "execution_count": 43,
   "metadata": {
    "scrolled": false
   },
   "outputs": [
    {
     "name": "stdout",
     "output_type": "stream",
     "text": [
      "K = 1 user - 2 \n",
      "\n",
      "neighbour_ratings : [1]\n",
      "similarity_vector : [0.84590986887562725]\n",
      "neighbour_rating_item : [array([1, 1, 5, 0, 5, 0])]\n",
      "neighbour_bais : 2.0\n",
      "user_bais : 1.83333333333\n",
      "-0.845909868876\n",
      "cosine_similarity_list : [0.78166083278189491, 0.38065944099403226, 1.0000000000000002, 0.30844354543224939, 0.84590986887562725, 0.76249285166302339]\n",
      "neighbour_indices : [4]\n",
      "prediction : 0.833333333333\n",
      "\n",
      "\n",
      "\n",
      "K = 1 user - 3 \n",
      "\n",
      "neighbour_ratings : [0]\n",
      "similarity_vector : [0.63576395320575096]\n",
      "neighbour_rating_item : [array([0, 2, 3, 0, 0, 0])]\n",
      "neighbour_bais : 0.833333333333\n",
      "user_bais : 2.5\n",
      "-0.529803294338\n",
      "cosine_similarity_list : [0.52852515831813207, 0.63576395320575096, 0.30844354543224939, 1.0, 0.4487745552040594, 0.0]\n",
      "neighbour_indices : [1]\n",
      "prediction : 1.66666666667\n",
      "\n",
      "\n",
      "\n",
      "Combined RMSE : 0.950146187583\n",
      "K = 2 user - 2 \n",
      "\n",
      "neighbour_ratings : [1, 3]\n",
      "similarity_vector : [0.84590986887562725, 0.78166083278189491]\n",
      "neighbour_rating_item : [array([1, 1, 5, 0, 5, 0]), array([1, 3, 3, 0, 5, 0])]\n",
      "neighbour_bais : 2.0\n",
      "user_bais : 1.83333333333\n",
      "-0.0642490360937\n",
      "cosine_similarity_list : [0.78166083278189491, 0.38065944099403226, 1.0000000000000002, 0.30844354543224939, 0.84590986887562725, 0.76249285166302339]\n",
      "neighbour_indices : [4, 0]\n",
      "prediction : 1.79385791391\n",
      "\n",
      "\n",
      "\n",
      "K = 2 user - 3 \n",
      "\n",
      "neighbour_ratings : [0, 0]\n",
      "similarity_vector : [0.63576395320575096, 0.52852515831813207]\n",
      "neighbour_rating_item : [array([0, 2, 3, 0, 0, 0]), array([1, 3, 3, 0, 5, 0])]\n",
      "neighbour_bais : 1.41666666667\n",
      "user_bais : 2.5\n",
      "-1.64940957466\n",
      "cosine_similarity_list : [0.52852515831813207, 0.63576395320575096, 0.30844354543224939, 1.0, 0.4487745552040594, 0.0]\n",
      "neighbour_indices : [1, 0]\n",
      "prediction : 1.08333333333\n",
      "\n",
      "\n",
      "\n",
      "Combined RMSE : 1.46693924526\n",
      "K = 3 user - 2 \n",
      "\n",
      "neighbour_ratings : [1, 3, 0]\n",
      "similarity_vector : [0.84590986887562725, 0.78166083278189491, 0.76249285166302339]\n",
      "neighbour_rating_item : [array([1, 1, 5, 0, 5, 0]), array([1, 3, 3, 0, 5, 0]), array([0, 0, 0, 0, 3, 0])]\n",
      "neighbour_bais : 1.5\n",
      "user_bais : 1.83333333333\n",
      "-0.39420296276\n",
      "cosine_similarity_list : [0.78166083278189491, 0.38065944099403226, 1.0000000000000002, 0.30844354543224939, 0.84590986887562725, 0.76249285166302339]\n",
      "neighbour_indices : [4, 0, 5]\n",
      "prediction : 1.66839924101\n",
      "\n",
      "\n",
      "\n",
      "K = 3 user - 3 \n",
      "\n",
      "neighbour_ratings : [0, 0, 0]\n",
      "similarity_vector : [0.63576395320575096, 0.52852515831813207, 0.4487745552040594]\n",
      "neighbour_rating_item : [array([0, 2, 3, 0, 0, 0]), array([1, 3, 3, 0, 5, 0]), array([1, 1, 5, 0, 5, 0])]\n",
      "neighbour_bais : 1.61111111111\n",
      "user_bais : 2.5\n",
      "-2.5988247964\n",
      "cosine_similarity_list : [0.52852515831813207, 0.63576395320575096, 0.30844354543224939, 1.0, 0.4487745552040594, 0.0]\n",
      "neighbour_indices : [1, 0, 4]\n",
      "prediction : 0.888888888889\n",
      "\n",
      "\n",
      "\n",
      "Combined RMSE : 1.56581411235\n",
      "K = 4 user - 2 \n",
      "\n",
      "neighbour_ratings : [1, 3, 0, 2]\n",
      "similarity_vector : [0.84590986887562725, 0.78166083278189491, 0.76249285166302339, 0.38065944099403226]\n",
      "neighbour_rating_item : [array([1, 1, 5, 0, 5, 0]), array([1, 3, 3, 0, 5, 0]), array([0, 0, 0, 0, 3, 0]), array([0, 2, 3, 0, 0, 0])]\n",
      "neighbour_bais : 1.33333333333\n",
      "user_bais : 1.83333333333\n",
      "0.257913923457\n",
      "cosine_similarity_list : [0.78166083278189491, 0.38065944099403226, 1.0000000000000002, 0.30844354543224939, 0.84590986887562725, 0.76249285166302339]\n",
      "neighbour_indices : [4, 0, 5, 1]\n",
      "prediction : 1.92641875688\n",
      "\n",
      "\n",
      "\n",
      "K = 4 user - 3 \n",
      "\n",
      "neighbour_ratings : [0, 0, 0, 3]\n",
      "similarity_vector : [0.63576395320575096, 0.52852515831813207, 0.4487745552040594, 0.30844354543224939]\n",
      "neighbour_rating_item : [array([0, 2, 3, 0, 0, 0]), array([1, 3, 3, 0, 5, 0]), array([1, 1, 5, 0, 5, 0]), array([0, 0, 3, 3, 5, 0])]\n",
      "neighbour_bais : 1.66666666667\n",
      "user_bais : 2.5\n",
      "-2.27718138397\n",
      "cosine_similarity_list : [0.52852515831813207, 0.63576395320575096, 0.30844354543224939, 1.0, 0.4487745552040594, 0.0]\n",
      "neighbour_indices : [1, 0, 4, 2]\n",
      "prediction : 1.31489834149\n",
      "\n",
      "\n",
      "\n",
      "Combined RMSE : 1.35974617348\n"
     ]
    }
   ],
   "source": [
    "user_under_scrutiny_list = [2, 3]\n",
    "item_under_scrutiny_list = [2, 4]\n",
    "actual = [1, 3]\n",
    "k = [1, 2, 3, 4]\n",
    "\n",
    "RMSE_k_list = prediction_knn_recommenderSystem(data, user_under_scrutiny_list, item_under_scrutiny_list, actual, k)"
   ]
  },
  {
   "cell_type": "code",
   "execution_count": 44,
   "metadata": {},
   "outputs": [
    {
     "data": {
      "image/png": "[encoded data removed]",
      "text/plain": [
       "<matplotlib.figure.Figure at 0x174b1c62748>"
      ]
     },
     "metadata": {},
     "output_type": "display_data"
    }
   ],
   "source": [
    "plt.figure(figsize = (14, 8))\n",
    "plt.plot(k, RMSE_k_list)\n",
    "plt.xlabel('Nearest neighbour (k)')\n",
    "plt.ylabel('RMSE')\n",
    "plt.title('Change in RMSE for neighbour size')\n",
    "plt.grid()\n",
    "plt.show()"
   ]
  },
  {
   "cell_type": "code",
   "execution_count": null,
   "metadata": {
    "collapsed": true
   },
   "outputs": [],
   "source": []
  }
 ],
 "metadata": {
  "kernelspec": {
   "display_name": "Python 3",
   "language": "python",
   "name": "python3"
  },
  "language_info": {
   "codemirror_mode": {
    "name": "ipython",
    "version": 3
   },
   "file_extension": ".py",
   "mimetype": "text/x-python",
   "name": "python",
   "nbconvert_exporter": "python",
   "pygments_lexer": "ipython3",
   "version": "3.6.1"
  }
 },
 "nbformat": 4,
 "nbformat_minor": 2
}
