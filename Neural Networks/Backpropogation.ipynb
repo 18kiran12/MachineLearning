{
 "cells": [
  {
   "cell_type": "markdown",
   "metadata": {},
   "source": [
    "<h2><center>Backprop Algorithm for Neural Network</center></h2>\n"
   ]
  },
  {
   "cell_type": "code",
   "execution_count": 271,
   "metadata": {},
   "outputs": [],
   "source": [
    "import numpy as np\n",
    "from random import shuffle"
   ]
  },
  {
   "cell_type": "code",
   "execution_count": 253,
   "metadata": {},
   "outputs": [
    {
     "name": "stdout",
     "output_type": "stream",
     "text": [
      "shape of \n",
      "x : (4, 2) \n",
      "y : (4, 1)\n"
     ]
    }
   ],
   "source": [
    "x = np.array([[1., 1.], [-1., 1.], [1., -1.], [-1., -1.]])\n",
    "y = np.array([1., 0., 0., 1.]).reshape(-1, 1)\n",
    "print(\"shape of \\nx : {} \\ny : {}\".format(x.shape, y.shape))"
   ]
  },
  {
   "attachments": {
    "image.png": {
     "image/png": "[encoded data removed]"
    }
   },
   "cell_type": "markdown",
   "metadata": {},
   "source": [
    "We are going to work with a simple network that has one hidden layer (2 neurons). Since x has 2 features, we would need a weight matrix of 2X2 to map all the input features to the 2 neurons in the hidden layer as shown in the figure. The superscript shows the hidden layer number and the subscript of weights shows the mapping. The final prediction is classification and hence we need to calculate a single value from the 2 nodes. For this we use the 2 weights as shown in figure<br>\n",
    "![image.png](attachment:image.png)"
   ]
  },
  {
   "cell_type": "markdown",
   "metadata": {},
   "source": [
    "the weight matrix for the first layer would be of the shape 2X2:\n",
    "\\begin{equation*}\n",
    "W = \\begin{vmatrix}\n",
    "w11 & w21\\\\\n",
    "w21 & w22\n",
    "\\end{vmatrix}\n",
    "\\end{equation*}\n",
    "Weights are arranged in such a way that each row produces output for a particular node i.e., w11 and w21 when multiplied with x1 and x2 correspondingly produces the input value of Node 1. Hence, the equation used for forward propogation is <b>np.dot(W, x)</b> where \n",
    "\\begin{equation*}\n",
    "X = \\begin{vmatrix}\n",
    "x1\\\\\n",
    "x2\n",
    "\\end{vmatrix}\n",
    "\\end{equation*}\n"
   ]
  },
  {
   "cell_type": "markdown",
   "metadata": {},
   "source": [
    "<h4>Initialize werights and bias</h4>\n",
    "<p>weights are initialized randomly and then learnt using backpropogation algorithm. Weights alone does not provide sufficient aggregate as this would predict 0 whenever x values are 0. Inorder for the function to predict a specific value even when all the inputs are 0 we need to add bias. Bias helps the aggregation to have a y - intercept which otherwise would have passed through the origin.</p> "
   ]
  },
  {
   "cell_type": "code",
   "execution_count": 248,
   "metadata": {},
   "outputs": [
    {
     "name": "stdout",
     "output_type": "stream",
     "text": [
      "For layer 1, Random bias is \n",
      "[[1.76405235]\n",
      " [0.40015721]] \n",
      "Random weights is \n",
      "[[ 0.97873798  2.2408932 ]\n",
      " [ 1.86755799 -0.97727788]]\n",
      "For layer 1, Random bias is \n",
      "[[0.95008842]] \n",
      "Random weights is \n",
      "[[-0.15135721 -0.10321885]]\n"
     ]
    }
   ],
   "source": [
    "np.random.seed(seed = 0)\n",
    "bias_layer1 = np.random.randn(2, 1)\n",
    "w1 = np.random.randn(2,2)\n",
    "bias_layer2 = np.random.randn(1, 1)\n",
    "w2 = np.random.randn(1,2)\n",
    "print(\"For layer 1, Random bias is \\n{} \\nRandom weights is \\n{}\".format(bias_layer1, w1))\n",
    "print(\"For layer 1, Random bias is \\n{} \\nRandom weights is \\n{}\".format(bias_layer2, w2))\n",
    "prev_w2 = w2\n",
    "prev_w1 = w1"
   ]
  },
  {
   "cell_type": "markdown",
   "metadata": {},
   "source": [
    "<h4>Forward pass</h4>"
   ]
  },
  {
   "cell_type": "code",
   "execution_count": 249,
   "metadata": {},
   "outputs": [],
   "source": [
    "def forward_prop(x, bias, W, is_lastlayer):\n",
    "    a = np.dot(W, x)\n",
    "    a = a.reshape(W.shape[0], 1)\n",
    "    a = a + bias\n",
    "    \"\"\"we are using a relu activation function\"\"\"\n",
    "    if(is_lastlayer):\n",
    "        h = a\n",
    "    else:\n",
    "        h = np.maximum(np.zeros((W.shape[0], 1)), a)\n",
    "    return a, h"
   ]
  },
  {
   "cell_type": "code",
   "execution_count": 250,
   "metadata": {},
   "outputs": [
    {
     "name": "stdout",
     "output_type": "stream",
     "text": [
      "aggregate : [[4.98368353]\n",
      " [1.29043732]]\n",
      "relu activation : [[4.98368353]\n",
      " [1.29043732]]\n"
     ]
    }
   ],
   "source": [
    "a1, h1 = forward_prop(x[0], bias_layer1, w1, False)\n",
    "print(\"aggregate :\", a1)\n",
    "print(\"relu activation :\", h1)"
   ]
  },
  {
   "cell_type": "markdown",
   "metadata": {},
   "source": [
    "The output we have from this calculation are values for Node1(h1) and Node2(h2) given in the figure. Now the neural network treats these values as inputs to find the final output using w2 and bias2. Since the output layer is a single node out weight matrix will have just a single row and bias would be a single number."
   ]
  },
  {
   "cell_type": "code",
   "execution_count": 251,
   "metadata": {},
   "outputs": [
    {
     "name": "stdout",
     "output_type": "stream",
     "text": [
      "aggregate : [[0.06257453]]\n",
      "relu activation : [[0.06257453]]\n"
     ]
    }
   ],
   "source": [
    "a2, h2 = forward_prop(h1, bias_layer2, w2, True)\n",
    "print(\"aggregate :\", a2)\n",
    "print(\"linear activation :\", h2)\n",
    "output = h2"
   ]
  },
  {
   "cell_type": "markdown",
   "metadata": {},
   "source": [
    "So, with the random weights that was selected the algorithm predicts 0 as output."
   ]
  },
  {
   "cell_type": "markdown",
   "metadata": {},
   "source": [
    "<h4>Backward pass</h4>"
   ]
  },
  {
   "cell_type": "markdown",
   "metadata": {},
   "source": [
    "Here, we have to find the error in prediction and then propogate this error to modify all the weights so that the next prediction is a bit closer to the actual target value. Hence we start by claculating the deviation of the prediction to the target."
   ]
  },
  {
   "cell_type": "code",
   "execution_count": 255,
   "metadata": {},
   "outputs": [
    {
     "name": "stdout",
     "output_type": "stream",
     "text": [
      "[[0.87876651]]\n"
     ]
    }
   ],
   "source": [
    "sq_error = np.power((y[0] - output), 2)\n",
    "print(sq_error)"
   ]
  },
  {
   "cell_type": "markdown",
   "metadata": {},
   "source": [
    "derivative of the squared loss with respect to the output gives us the der_err as \n",
    "-2(y - output). The 2 constant can be ignored as this would be compensated by the learning rate. This is the error that gets propogated throughout the network."
   ]
  },
  {
   "cell_type": "code",
   "execution_count": 256,
   "metadata": {},
   "outputs": [
    {
     "name": "stdout",
     "output_type": "stream",
     "text": [
      "[[-0.93742547]]\n"
     ]
    }
   ],
   "source": [
    "der_err = (output - y[0])\n",
    "print(der_err)"
   ]
  },
  {
   "cell_type": "markdown",
   "metadata": {},
   "source": [
    "Inorder to calculate the component of this error that gets propogated to the weights we define a variable delta (delta_layer) as elementwise product of der_error and derivative of activation with aggregation (der_activation). der_activation in case of relu can be taken as 1 if activation is greater than 0 and 0 otherwise."
   ]
  },
  {
   "cell_type": "code",
   "execution_count": 239,
   "metadata": {},
   "outputs": [],
   "source": [
    "der_activation = 1 #no activation on last layer"
   ]
  },
  {
   "cell_type": "code",
   "execution_count": 240,
   "metadata": {},
   "outputs": [
    {
     "name": "stdout",
     "output_type": "stream",
     "text": [
      "[[-0.93742547]]\n"
     ]
    }
   ],
   "source": [
    "delta_layer2 = np.multiply(der_err, der_activation)\n",
    "print(delta_layer2)"
   ]
  },
  {
   "cell_type": "markdown",
   "metadata": {},
   "source": [
    "the derivative of error with respect to weights can be computed as dot product of delta_layer and previous activation output transposed (h1)"
   ]
  },
  {
   "cell_type": "code",
   "execution_count": 241,
   "metadata": {},
   "outputs": [
    {
     "name": "stdout",
     "output_type": "stream",
     "text": [
      "[[-4.67183186 -1.20968881]]\n"
     ]
    }
   ],
   "source": [
    "grad_weight2 = delta_layer2 * h1.T\n",
    "print(grad_weight2)"
   ]
  },
  {
   "cell_type": "markdown",
   "metadata": {},
   "source": [
    "Now, we have gradient computed from the error component. Using this and a learning rate we can calculate the updated w2 values."
   ]
  },
  {
   "cell_type": "code",
   "execution_count": 242,
   "metadata": {},
   "outputs": [
    {
     "name": "stdout",
     "output_type": "stream",
     "text": [
      "learning rate : 0.01\n",
      "previous w : [[-0.15135721 -0.10321885]]\n"
     ]
    }
   ],
   "source": [
    "learn_rate = 0.01\n",
    "print(\"learning rate :\", learn_rate)\n",
    "prev_w2 = w2\n",
    "print(\"previous w :\", prev_w2)"
   ]
  },
  {
   "cell_type": "code",
   "execution_count": 243,
   "metadata": {},
   "outputs": [
    {
     "name": "stdout",
     "output_type": "stream",
     "text": [
      "Updated weights : [[-0.10463889 -0.09112196]]\n"
     ]
    }
   ],
   "source": [
    "w2 = w2 - learn_rate * grad_weight2\n",
    "print(\"Updated weights :\", w2)"
   ]
  },
  {
   "cell_type": "markdown",
   "metadata": {},
   "source": [
    "We use the updated w2 values for further back propogation and updating w1. This update is called dirty update and is widly accepted to be experimentaly better than actual update. Actual update would be the one that uses the old W values until the error with respect to those weights are fully propogated."
   ]
  },
  {
   "cell_type": "markdown",
   "metadata": {},
   "source": [
    "<h4>Combining the back prop into a function</h4>"
   ]
  },
  {
   "cell_type": "code",
   "execution_count": 244,
   "metadata": {},
   "outputs": [],
   "source": [
    "def back_prop(prev_delta, is_last_layer, forward_weights, learn_rate, weights, forward_activation, backward_activation):\n",
    "    \"\"\"derivative of activation \"\"\"\n",
    "    der_activation = forward_activation.copy()\n",
    "    der_activation[der_activation >= 0] = 1\n",
    "    der_activation[der_activation < 0] = 0\n",
    "    print(\"der_activation :\", der_activation)\n",
    "    \"\"\"error propogated through activation in front of the weights\"\"\"\n",
    "    activation_prop = delta_layer2 * der_activation\n",
    "    if(is_last_layer):\n",
    "        delta = prev_delta\n",
    "        grad_weight = delta * backward_activation.T\n",
    "    else:\n",
    "        delta = forward_weights.T * activation_prop\n",
    "        print(delta)\n",
    "        grad_weight = np.dot(delta, backward_activation.T)\n",
    "    print(\"grad :\", grad_weight)\n",
    "    print(\"prev weight : \", weights)\n",
    "    weights = weights - learn_rate * grad_weight\n",
    "    return delta, weights"
   ]
  },
  {
   "cell_type": "code",
   "execution_count": 245,
   "metadata": {},
   "outputs": [
    {
     "name": "stdout",
     "output_type": "stream",
     "text": [
      "der_activation : [[1.]]\n",
      "grad : [[-4.67183186 -1.20968881]]\n",
      "prev weight :  [[-0.15135721 -0.10321885]]\n",
      "Delta in this layer :\n",
      " [[-0.93742547]]\n",
      "Updated weights :\n",
      " [[-0.10463889 -0.09112196]]\n"
     ]
    }
   ],
   "source": [
    "delta_layer2, w2_new = back_prop(der_err, True, None, 0.01, prev_w2, h2, h1)\n",
    "print(\"Delta in this layer :\\n\", delta_layer2)\n",
    "print(\"Updated weights :\\n\", w2_new)"
   ]
  },
  {
   "cell_type": "code",
   "execution_count": 246,
   "metadata": {},
   "outputs": [
    {
     "name": "stdout",
     "output_type": "stream",
     "text": [
      "der_activation : [[1.]\n",
      " [1.]]\n",
      "[[0.09809116]\n",
      " [0.08542005]]\n",
      "grad : [[0.09809116 0.09809116]\n",
      " [0.08542005 0.08542005]]\n",
      "prev weight :  [[ 0.97873798  2.2408932 ]\n",
      " [ 1.86755799 -0.97727788]]\n",
      "Delta in this layer :\n",
      " [[0.09809116]\n",
      " [0.08542005]]\n",
      "Updated weights :\n",
      " [[ 0.97775707  2.23991229]\n",
      " [ 1.86670379 -0.97813208]]\n"
     ]
    }
   ],
   "source": [
    "delta_layer1, w1_new = back_prop(delta_layer2, False, w2_new, 0.01, prev_w1, h1, x[0].reshape(-1, 1))\n",
    "print(\"Delta in this layer :\\n\", delta_layer1)\n",
    "print(\"Updated weights :\\n\", w1_new)"
   ]
  },
  {
   "cell_type": "markdown",
   "metadata": {},
   "source": [
    "<h4>Error Computaion</h4>"
   ]
  },
  {
   "cell_type": "code",
   "execution_count": 259,
   "metadata": {},
   "outputs": [],
   "source": [
    "def error(output, target):\n",
    "    sq_loss = np.sum(np.power((target - output), 2))\n",
    "    return sq_loss"
   ]
  },
  {
   "cell_type": "markdown",
   "metadata": {},
   "source": [
    "<h2>Complete program</h2>\n"
   ]
  },
  {
   "cell_type": "code",
   "execution_count": 297,
   "metadata": {},
   "outputs": [],
   "source": [
    "def forward_prop(x, bias, W, is_lastlayer):\n",
    "    a = np.dot(W, x)\n",
    "    a = a.reshape(W.shape[0], 1)\n",
    "    a = a + bias\n",
    "    if(is_lastlayer):\n",
    "        h = a\n",
    "    else:\n",
    "        \"\"\"using a relu activation function\"\"\"\n",
    "        h = np.maximum(np.zeros((W.shape[0], 1)), a)\n",
    "    return a, h\n",
    "\n",
    "def error(output, target):\n",
    "    marginalize = len(target)\n",
    "    sq_loss = np.sum(np.power((target - output), 2))\n",
    "    rmse_loss = np.sqrt(sq_loss/marginalize)\n",
    "    return rmse_loss\n",
    "\n",
    "def back_prop(prev_delta, is_last_layer, forward_weights, learn_rate, \n",
    "              weights, forward_activation, backward_activation):\n",
    "    \"\"\"derivative of activation \"\"\"\n",
    "    der_activation = forward_activation.copy()\n",
    "    der_activation[der_activation >= 0] = 1\n",
    "    der_activation[der_activation < 0] = 0\n",
    "    \"\"\"error propogated through activation in front of the weights\"\"\"\n",
    "    activation_prop = delta_layer2 * der_activation\n",
    "    if(is_last_layer):\n",
    "        delta = prev_delta\n",
    "        grad_weight = delta * backward_activation.T\n",
    "    else:\n",
    "        delta = forward_weights.T * activation_prop\n",
    "        grad_weight = np.dot(delta, backward_activation.T)\n",
    "    weights = weights - learn_rate * grad_weight\n",
    "    return delta, weights"
   ]
  },
  {
   "cell_type": "code",
   "execution_count": 298,
   "metadata": {},
   "outputs": [],
   "source": [
    "\"\"\"intializing parameters\"\"\"\n",
    "verbose = 0\n",
    "epochs = 500\n",
    "learn_rate = 0.01\n",
    "\n",
    "\"\"\"initializing x and y\"\"\"\n",
    "x = np.array([[1., 1.], [-1., 1.], [1., -1.], [-1., -1.]])\n",
    "y = np.array([1., 0., 0., 1.]).reshape(-1, 1)\n",
    "if(verbose ==1):\n",
    "    print(\"Target values :\", y.tolist())\n",
    "\n",
    "\"\"\"initializing weights and bias\"\"\"\n",
    "\n",
    "np.random.seed(seed = 0)\n",
    "bias_layer1 = np.random.randn(2, 1)\n",
    "w1 = np.random.randn(2,2)\n",
    "bias_layer2 = np.random.randn(1, 1)\n",
    "w2 = np.random.randn(1,2)\n",
    "n = len(x)\n",
    "loss_list = []\n",
    "x_order = np.arange(n)\n",
    "\n",
    "\"\"\"iterating through number of epochs\"\"\"\n",
    "for epoch in range(epochs):\n",
    "    \n",
    "    \"\"\"iterating through each row stochastic\"\"\"\n",
    "    prediction_list = []\n",
    "#     shuffle(x_order)\n",
    "    for i in x_order:\n",
    "\n",
    "        \"\"\"forward pass\"\"\"\n",
    "        a1, h1 = forward_prop(x[i], bias_layer1, w1, False)\n",
    "        a2, h2 = forward_prop(h1, bias_layer2, w2, True)\n",
    "        output = h2\n",
    "        prediction_list.append(output)\n",
    "\n",
    "        \"\"\"error component\"\"\"\n",
    "        der_err = (output - y[i])\n",
    "\n",
    "        \"\"\"backward propogation\"\"\"\n",
    "        delta_layer2, w2 = back_prop(der_err, True, None, learn_rate, w2, h2, h1)\n",
    "        delta_layer1, w1 = back_prop(delta_layer2, False, w2, learn_rate, w1, h1, x[i].reshape(-1, 1))\n",
    "\n",
    "    \"\"\"check prediction after an epoch\"\"\"\n",
    "    prediction = np.array(prediction_list).reshape(-1, 1)\n",
    "    loss = error(y, prediction)\n",
    "    if(verbose == 1):\n",
    "        print(\"After epoch : \", epoch)\n",
    "        print(\"\\tPrediction : \", prediction_list)\n",
    "        print(\"\\tLoss is : {}\\n\\n\".format(epoch, loss))\n",
    "    loss_list.append(loss)"
   ]
  },
  {
   "cell_type": "code",
   "execution_count": 299,
   "metadata": {},
   "outputs": [],
   "source": [
    "from matplotlib import pyplot as plt "
   ]
  },
  {
   "cell_type": "code",
   "execution_count": 300,
   "metadata": {},
   "outputs": [
    {
     "data": {
      "image/png": "[encoded data removed]",
      "text/plain": [
       "<matplotlib.figure.Figure at 0x2167c75b0b8>"
      ]
     },
     "metadata": {},
     "output_type": "display_data"
    }
   ],
   "source": [
    "plt.figure(figsize=(14,7))\n",
    "plt.plot(range(epochs), loss_list, label = \"Training loss\")\n",
    "plt.xlabel('# of epochs')\n",
    "plt.ylabel('RMSE Loss')\n",
    "plt.title(\"RMSE variation with increasing epochs\")\n",
    "plt.grid()\n",
    "plt.show()"
   ]
  },
  {
   "cell_type": "code",
   "execution_count": null,
   "metadata": {},
   "outputs": [],
   "source": []
  }
 ],
 "metadata": {
  "kernelspec": {
   "display_name": "Python 3",
   "language": "python",
   "name": "python3"
  },
  "language_info": {
   "codemirror_mode": {
    "name": "ipython",
    "version": 3
   },
   "file_extension": ".py",
   "mimetype": "text/x-python",
   "name": "python",
   "nbconvert_exporter": "python",
   "pygments_lexer": "ipython3",
   "version": "3.6.2"
  }
 },
 "nbformat": 4,
 "nbformat_minor": 2
}
