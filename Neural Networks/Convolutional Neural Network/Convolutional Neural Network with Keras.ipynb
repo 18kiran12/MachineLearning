{
 "cells": [
  {
   "cell_type": "markdown",
   "metadata": {},
   "source": [
    "<h2>Implementing a Convolutional Neural Network with Keras CIFAR dataset</h2>"
   ]
  },
  {
   "cell_type": "code",
   "execution_count": 10,
   "metadata": {},
   "outputs": [],
   "source": [
    "from keras.models import Model\n",
    "from keras.layers import Input, Convolution2D, MaxPooling2D, Dense, Dropout, Flatten\n",
    "from matplotlib import pyplot as plt\n",
    "from keras.utils import np_utils \n",
    "import numpy as np"
   ]
  },
  {
   "cell_type": "markdown",
   "metadata": {},
   "source": [
    "<h3>Reading the dataset</h3>"
   ]
  },
  {
   "cell_type": "code",
   "execution_count": 8,
   "metadata": {},
   "outputs": [
    {
     "name": "stdout",
     "output_type": "stream",
     "text": [
      "Downloading data from https://www.cs.toronto.edu/~kriz/cifar-10-python.tar.gz\n",
      "170500096/170498071 [==============================] - 32s 0us/step\n"
     ]
    }
   ],
   "source": [
    "from keras.datasets import cifar10\n",
    "(X_train, y_train), (X_test, y_test) = cifar10.load_data()"
   ]
  },
  {
   "cell_type": "markdown",
   "metadata": {},
   "source": [
    "<h3>Pre processing the dataset</h3>"
   ]
  },
  {
   "cell_type": "code",
   "execution_count": 26,
   "metadata": {},
   "outputs": [],
   "source": [
    "num_train, height, width, depth = X_train.shape\n",
    "num_test = X_test.shape[0]\n",
    "num_classes = np.unique(y_train).shape[0]\n",
    "\n",
    "#normalizing the data\n",
    "\n",
    "#error :No loop matching the specified signature and casting was found for ufunc true_divide\n",
    "#convert the data into float\n",
    "\n",
    "X_train = X_train.astype('float32') \n",
    "X_test = X_test.astype('float32')\n",
    "X_test /= np.max(X_test)\n",
    "X_train /= np.max(X_train)\n",
    "\n",
    "#one hot encode the labels\n",
    "Y_train = np_utils.to_categorical(y_train, num_classes)\n",
    "Y_test = np_utils.to_categorical(y_test, num_classes)"
   ]
  },
  {
   "cell_type": "code",
   "execution_count": 27,
   "metadata": {},
   "outputs": [
    {
     "data": {
      "text/plain": [
       "array([0.23137255, 0.24313726, 0.24705882], dtype=float32)"
      ]
     },
     "execution_count": 27,
     "metadata": {},
     "output_type": "execute_result"
    }
   ],
   "source": [
    "X_train[0][0][0] #these values indicate a pixel of the data after normalization"
   ]
  },
  {
   "cell_type": "code",
   "execution_count": 29,
   "metadata": {},
   "outputs": [
    {
     "data": {
      "text/plain": [
       "array([6], dtype=uint8)"
      ]
     },
     "execution_count": 29,
     "metadata": {},
     "output_type": "execute_result"
    }
   ],
   "source": [
    "y_train[0] #and the label for X[0] is 6"
   ]
  },
  {
   "cell_type": "markdown",
   "metadata": {},
   "source": [
    "<h3>Setting the parameters</h3>"
   ]
  },
  {
   "cell_type": "code",
   "execution_count": 31,
   "metadata": {},
   "outputs": [],
   "source": [
    "batch_size = 100\n",
    "num_epochs = 10\n",
    "kernel_size = 3 # we will use 3x3 kernels throughout\n",
    "pool_size = 2 # we will use 2x2 pooling throughout\n",
    "conv_depth_1 = 32 # we will initially have 32 kernels per conv. layer...\n",
    "conv_depth_2 = 64 # ...switching to 64 after the first pooling layer\n",
    "drop_prob_1 = 0.25 # dropout after pooling with probability 0.25\n",
    "drop_prob_2 = 0.5 # dropout in the FC layer with probability 0.5\n",
    "hidden_size = 512 # the FC layer will have 512 neurons"
   ]
  },
  {
   "cell_type": "markdown",
   "metadata": {},
   "source": [
    "<h3>Creating the model and Fitting the model</h3>"
   ]
  },
  {
   "cell_type": "code",
   "execution_count": 32,
   "metadata": {},
   "outputs": [
    {
     "name": "stdout",
     "output_type": "stream",
     "text": [
      "Train on 45000 samples, validate on 5000 samples\n",
      "Epoch 1/10\n",
      "45000/45000 [==============================] - 51s 1ms/step - loss: 1.5921 - acc: 0.4177 - val_loss: 1.2321 - val_acc: 0.5634\n",
      "Epoch 2/10\n",
      "45000/45000 [==============================] - 49s 1ms/step - loss: 1.1926 - acc: 0.5739 - val_loss: 0.9765 - val_acc: 0.6554\n",
      "Epoch 3/10\n",
      "45000/45000 [==============================] - 48s 1ms/step - loss: 1.0190 - acc: 0.6389 - val_loss: 0.8825 - val_acc: 0.6968\n",
      "Epoch 4/10\n",
      "45000/45000 [==============================] - 48s 1ms/step - loss: 0.9080 - acc: 0.6792 - val_loss: 0.8330 - val_acc: 0.7160\n",
      "Epoch 5/10\n",
      "45000/45000 [==============================] - 49s 1ms/step - loss: 0.8322 - acc: 0.7064 - val_loss: 0.7665 - val_acc: 0.7334\n",
      "Epoch 6/10\n",
      "45000/45000 [==============================] - 51s 1ms/step - loss: 0.7712 - acc: 0.7265 - val_loss: 0.7064 - val_acc: 0.7602\n",
      "Epoch 7/10\n",
      "45000/45000 [==============================] - 51s 1ms/step - loss: 0.7176 - acc: 0.7473 - val_loss: 0.6898 - val_acc: 0.7652\n",
      "Epoch 8/10\n",
      "45000/45000 [==============================] - 51s 1ms/step - loss: 0.6689 - acc: 0.7643 - val_loss: 0.6607 - val_acc: 0.7690\n",
      "Epoch 9/10\n",
      "45000/45000 [==============================] - 51s 1ms/step - loss: 0.6330 - acc: 0.7763 - val_loss: 0.6397 - val_acc: 0.7832\n",
      "Epoch 10/10\n",
      "45000/45000 [==============================] - 51s 1ms/step - loss: 0.5894 - acc: 0.7900 - val_loss: 0.6321 - val_acc: 0.7846\n",
      "10000/10000 [==============================] - 6s 569us/step\n"
     ]
    },
    {
     "data": {
      "text/plain": [
       "[0.6779823116779328, 0.7668]"
      ]
     },
     "execution_count": 32,
     "metadata": {},
     "output_type": "execute_result"
    }
   ],
   "source": [
    "inp = Input(shape=(height, width, depth))\n",
    "conv_1 = Convolution2D(conv_depth_1, (kernel_size, kernel_size), padding='same', activation='relu')(inp)\n",
    "conv_2 = Convolution2D(conv_depth_1, (kernel_size, kernel_size), padding='same', activation='relu')(conv_1)\n",
    "pool_1 = MaxPooling2D(pool_size=(pool_size, pool_size))(conv_2)\n",
    "drop_1 = Dropout(drop_prob_1)(pool_1)\n",
    "\n",
    "conv_3 = Convolution2D(conv_depth_2, (kernel_size, kernel_size), padding='same', activation='relu')(drop_1)\n",
    "conv_4 = Convolution2D(conv_depth_2, (kernel_size, kernel_size), padding='same', activation='relu')(conv_3)\n",
    "pool_2 = MaxPooling2D(pool_size=(pool_size, pool_size))(conv_4)\n",
    "drop_2 = Dropout(drop_prob_1)(pool_2)\n",
    "\n",
    "flat = Flatten()(drop_2)\n",
    "hidden = Dense(hidden_size, activation='relu')(flat)\n",
    "drop_3 = Dropout(drop_prob_2)(hidden)\n",
    "\n",
    "out = Dense(num_classes, activation='softmax')(drop_3)\n",
    "\n",
    "model = Model(inputs=inp, outputs=out)\n",
    "\n",
    "model.compile(loss='categorical_crossentropy', # using the cross-entropy loss function\n",
    "              optimizer='adam', # using the Adam optimiser\n",
    "              metrics=['accuracy']) # reporting the accuracy\n",
    "\n",
    "model.fit(X_train, Y_train,                # Train the model using the training set...\n",
    "          batch_size=batch_size, epochs=num_epochs,\n",
    "          verbose=1, validation_split=0.1)\n",
    "\n",
    "model.evaluate(X_test, Y_test, verbose=1) \n"
   ]
  },
  {
   "cell_type": "code",
   "execution_count": null,
   "metadata": {},
   "outputs": [],
   "source": []
  }
 ],
 "metadata": {
  "kernelspec": {
   "display_name": "Python 3",
   "language": "python",
   "name": "python3"
  },
  "language_info": {
   "codemirror_mode": {
    "name": "ipython",
    "version": 3
   },
   "file_extension": ".py",
   "mimetype": "text/x-python",
   "name": "python",
   "nbconvert_exporter": "python",
   "pygments_lexer": "ipython3",
   "version": "3.6.4"
  }
 },
 "nbformat": 4,
 "nbformat_minor": 2
}
